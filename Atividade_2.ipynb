{
 "cells": [
  {
   "cell_type": "code",
   "execution_count": 7,
   "id": "34693b37",
   "metadata": {},
   "outputs": [
    {
     "name": "stdout",
     "output_type": "stream",
     "text": [
      "3.11.4\n"
     ]
    }
   ],
   "source": [
    "#Checando a versão Python usada\n",
    "from platform import python_version\n",
    "print(python_version())"
   ]
  },
  {
   "cell_type": "code",
   "execution_count": 8,
   "id": "9da5bbf1",
   "metadata": {},
   "outputs": [
    {
     "name": "stdout",
     "output_type": "stream",
     "text": [
      "Requirement already satisfied: requests in d:\\python\\lib\\site-packages (2.31.0)\n",
      "Requirement already satisfied: charset-normalizer<4,>=2 in d:\\python\\lib\\site-packages (from requests) (2.0.4)\n",
      "Requirement already satisfied: idna<4,>=2.5 in d:\\python\\lib\\site-packages (from requests) (3.4)\n",
      "Requirement already satisfied: urllib3<3,>=1.21.1 in d:\\python\\lib\\site-packages (from requests) (1.26.16)\n",
      "Requirement already satisfied: certifi>=2017.4.17 in d:\\python\\lib\\site-packages (from requests) (2023.7.22)\n"
     ]
    }
   ],
   "source": [
    "#instalando a biblioteca 'requests' para permitir a realização de solicitações HTTP\n",
    "!pip install requests"
   ]
  },
  {
   "cell_type": "code",
   "execution_count": 9,
   "id": "0dbb4185",
   "metadata": {},
   "outputs": [],
   "source": [
    "#importando a biblioteca 'requests' \n",
    "import requests"
   ]
  },
  {
   "cell_type": "code",
   "execution_count": 10,
   "id": "9b6d4015",
   "metadata": {},
   "outputs": [],
   "source": [
    "#Importando o módulo \"json\" para leitura de dados no formato JSON\n",
    "import json"
   ]
  },
  {
   "cell_type": "code",
   "execution_count": 11,
   "id": "9a9b97eb",
   "metadata": {},
   "outputs": [
    {
     "name": "stdout",
     "output_type": "stream",
     "text": [
      "[{'id': '276ea760baf0fc0bbfca22d2bff7285a', 'sport_key': 'soccer_brazil_campeonato', 'sport_title': 'Brazil Série A', 'commence_time': '2023-10-15T00:00:00Z', 'completed': False, 'home_team': 'Cuiabá', 'away_team': 'Cruzeiro', 'scores': None, 'last_update': None}, {'id': '75456c31a9d7fec02978ce8b83027127', 'sport_key': 'soccer_brazil_campeonato', 'sport_title': 'Brazil Série A', 'commence_time': '2023-10-18T22:00:00Z', 'completed': False, 'home_team': 'Gremio', 'away_team': 'Atletico Paranaense', 'scores': None, 'last_update': None}, {'id': '307d881e844eae842ece62b10e02a5ef', 'sport_key': 'soccer_brazil_campeonato', 'sport_title': 'Brazil Série A', 'commence_time': '2023-10-18T23:00:00Z', 'completed': False, 'home_team': 'América Mineiro', 'away_team': 'Botafogo', 'scores': None, 'last_update': None}, {'id': '771c4bde453190620bc2fb3e6142f1f5', 'sport_key': 'soccer_brazil_campeonato', 'sport_title': 'Brazil Série A', 'commence_time': '2023-10-18T23:00:00Z', 'completed': False, 'home_team': 'Coritiba', 'away_team': 'Cuiabá', 'scores': None, 'last_update': None}, {'id': '127b521280160a5b5f5a75b734213a34', 'sport_key': 'soccer_brazil_campeonato', 'sport_title': 'Brazil Série A', 'commence_time': '2023-10-19T00:30:00Z', 'completed': False, 'home_team': 'Bahia', 'away_team': 'Internacional', 'scores': None, 'last_update': None}, {'id': 'dc870bb54dbcd9b63abbceb1d7d2b06b', 'sport_key': 'soccer_brazil_campeonato', 'sport_title': 'Brazil Série A', 'commence_time': '2023-10-19T00:30:00Z', 'completed': False, 'home_team': 'Vasco da Gama', 'away_team': 'Fortaleza', 'scores': None, 'last_update': None}, {'id': '0e0db1a73f794087e68d1850bce189ca', 'sport_key': 'soccer_brazil_campeonato', 'sport_title': 'Brazil Série A', 'commence_time': '2023-10-19T00:30:00Z', 'completed': False, 'home_team': 'Goiás', 'away_team': 'Sao Paulo', 'scores': None, 'last_update': None}, {'id': '892bf402270fc3ce26465814f6fe1749', 'sport_key': 'soccer_brazil_campeonato', 'sport_title': 'Brazil Série A', 'commence_time': '2023-10-19T22:00:00Z', 'completed': False, 'home_team': 'Palmeiras', 'away_team': 'Atletico Mineiro', 'scores': None, 'last_update': None}, {'id': 'e4e1f45f6b0bff9931899bee9f278ffb', 'sport_key': 'soccer_brazil_campeonato', 'sport_title': 'Brazil Série A', 'commence_time': '2023-10-19T22:00:00Z', 'completed': False, 'home_team': 'Cruzeiro', 'away_team': 'Flamengo', 'scores': None, 'last_update': None}, {'id': '0450620669e7ac867480992f74f279a9', 'sport_key': 'soccer_brazil_campeonato', 'sport_title': 'Brazil Série A', 'commence_time': '2023-10-19T23:00:00Z', 'completed': False, 'home_team': 'Santos', 'away_team': 'Bragantino-SP', 'scores': None, 'last_update': None}, {'id': '36d7216dce04066b1fb99f73e5953d5e', 'sport_key': 'soccer_brazil_campeonato', 'sport_title': 'Brazil Série A', 'commence_time': '2023-10-20T00:30:00Z', 'completed': False, 'home_team': 'Fluminense', 'away_team': 'Corinthians', 'scores': None, 'last_update': None}, {'id': '1e6836f5247a74f04dadb1ea15390614', 'sport_key': 'soccer_brazil_campeonato', 'sport_title': 'Brazil Série A', 'commence_time': '2023-10-21T21:30:00Z', 'completed': False, 'home_team': 'Bahia', 'away_team': 'Fortaleza', 'scores': None, 'last_update': None}, {'id': 'a72a41206245407f460ecff7c64c1396', 'sport_key': 'soccer_brazil_campeonato', 'sport_title': 'Brazil Série A', 'commence_time': '2023-10-21T21:30:00Z', 'completed': False, 'home_team': 'Cuiabá', 'away_team': 'Goiás', 'scores': None, 'last_update': None}, {'id': 'ec15a16f1768919aef5dc95a5cdc3aea', 'sport_key': 'soccer_brazil_campeonato', 'sport_title': 'Brazil Série A', 'commence_time': '2023-10-21T21:30:00Z', 'completed': False, 'home_team': 'Sao Paulo', 'away_team': 'Gremio', 'scores': None, 'last_update': None}, {'id': '34aa9b489b2d75df7872e6f3bad985aa', 'sport_key': 'soccer_brazil_campeonato', 'sport_title': 'Brazil Série A', 'commence_time': '2023-10-22T00:00:00Z', 'completed': False, 'home_team': 'Botafogo', 'away_team': 'Atletico Paranaense', 'scores': None, 'last_update': None}, {'id': '914da25ca58dc73fc4a3d6eb1d0ec3f0', 'sport_key': 'soccer_brazil_campeonato', 'sport_title': 'Brazil Série A', 'commence_time': '2023-10-22T19:00:00Z', 'completed': False, 'home_team': 'Atletico Mineiro', 'away_team': 'Cruzeiro', 'scores': None, 'last_update': None}, {'id': 'f5f3de1e2df421e29b5caf2978b5bf58', 'sport_key': 'soccer_brazil_campeonato', 'sport_title': 'Brazil Série A', 'commence_time': '2023-10-22T19:00:00Z', 'completed': False, 'home_team': 'Flamengo', 'away_team': 'Vasco da Gama', 'scores': None, 'last_update': None}, {'id': '0e261b79c0d0865a3c8e5db6829f25ec', 'sport_key': 'soccer_brazil_campeonato', 'sport_title': 'Brazil Série A', 'commence_time': '2023-10-22T19:00:00Z', 'completed': False, 'home_team': 'Internacional', 'away_team': 'Santos', 'scores': None, 'last_update': None}, {'id': '581f6f7af110f52e913d4b42158438a5', 'sport_key': 'soccer_brazil_campeonato', 'sport_title': 'Brazil Série A', 'commence_time': '2023-10-22T21:30:00Z', 'completed': False, 'home_team': 'Corinthians', 'away_team': 'América Mineiro', 'scores': None, 'last_update': None}, {'id': '99ae8381a7a19ea74ad2a70a1e4c0821', 'sport_key': 'soccer_brazil_campeonato', 'sport_title': 'Brazil Série A', 'commence_time': '2023-10-22T21:30:00Z', 'completed': False, 'home_team': 'Bragantino-SP', 'away_team': 'Fluminense', 'scores': None, 'last_update': None}, {'id': 'a5bb4f3fa90b1000ba5fb2f668393b96', 'sport_key': 'soccer_brazil_campeonato', 'sport_title': 'Brazil Série A', 'commence_time': '2023-10-22T21:30:00Z', 'completed': False, 'home_team': 'Coritiba', 'away_team': 'Palmeiras', 'scores': None, 'last_update': None}]\n"
     ]
    }
   ],
   "source": [
    "# Este código realiza uma solicitação HTTP a API para obter os dados do endpoint 'scores' no formato JSON. \n",
    "# O endpoint é parte do serviço disponibilizado pelo site \"https://rapidapi.com/\".\n",
    "\n",
    "import requests\n",
    "\n",
    "url = \"https://odds.p.rapidapi.com/v4/sports/soccer_brazil_campeonato/scores\"\n",
    "\n",
    "querystring = {\"daysFrom\":\"3\"}\n",
    "\n",
    "headers = {\n",
    "\t\"X-RapidAPI-Key\": \"0a16a4d9cbmshac1516e415b0736p1bfba6jsnc36bfeea7da7\",\n",
    "\t\"X-RapidAPI-Host\": \"odds.p.rapidapi.com\"\n",
    "}\n",
    "\n",
    "response = requests.get(url, headers=headers, params=querystring)\n",
    "\n",
    "print(response.json())"
   ]
  },
  {
   "cell_type": "code",
   "execution_count": 13,
   "id": "5ab824c8",
   "metadata": {},
   "outputs": [
    {
     "name": "stdout",
     "output_type": "stream",
     "text": [
      "[{'away_team': 'Cruzeiro',\n",
      "  'commence_time': '2023-10-15T00:00:00Z',\n",
      "  'completed': False,\n",
      "  'home_team': 'Cuiabá',\n",
      "  'id': '276ea760baf0fc0bbfca22d2bff7285a',\n",
      "  'last_update': None,\n",
      "  'scores': None,\n",
      "  'sport_key': 'soccer_brazil_campeonato',\n",
      "  'sport_title': 'Brazil Série A'},\n",
      " {'away_team': 'Atletico Paranaense',\n",
      "  'commence_time': '2023-10-18T22:00:00Z',\n",
      "  'completed': False,\n",
      "  'home_team': 'Gremio',\n",
      "  'id': '75456c31a9d7fec02978ce8b83027127',\n",
      "  'last_update': None,\n",
      "  'scores': None,\n",
      "  'sport_key': 'soccer_brazil_campeonato',\n",
      "  'sport_title': 'Brazil Série A'},\n",
      " {'away_team': 'Botafogo',\n",
      "  'commence_time': '2023-10-18T23:00:00Z',\n",
      "  'completed': False,\n",
      "  'home_team': 'América Mineiro',\n",
      "  'id': '307d881e844eae842ece62b10e02a5ef',\n",
      "  'last_update': None,\n",
      "  'scores': None,\n",
      "  'sport_key': 'soccer_brazil_campeonato',\n",
      "  'sport_title': 'Brazil Série A'},\n",
      " {'away_team': 'Cuiabá',\n",
      "  'commence_time': '2023-10-18T23:00:00Z',\n",
      "  'completed': False,\n",
      "  'home_team': 'Coritiba',\n",
      "  'id': '771c4bde453190620bc2fb3e6142f1f5',\n",
      "  'last_update': None,\n",
      "  'scores': None,\n",
      "  'sport_key': 'soccer_brazil_campeonato',\n",
      "  'sport_title': 'Brazil Série A'},\n",
      " {'away_team': 'Internacional',\n",
      "  'commence_time': '2023-10-19T00:30:00Z',\n",
      "  'completed': False,\n",
      "  'home_team': 'Bahia',\n",
      "  'id': '127b521280160a5b5f5a75b734213a34',\n",
      "  'last_update': None,\n",
      "  'scores': None,\n",
      "  'sport_key': 'soccer_brazil_campeonato',\n",
      "  'sport_title': 'Brazil Série A'},\n",
      " {'away_team': 'Fortaleza',\n",
      "  'commence_time': '2023-10-19T00:30:00Z',\n",
      "  'completed': False,\n",
      "  'home_team': 'Vasco da Gama',\n",
      "  'id': 'dc870bb54dbcd9b63abbceb1d7d2b06b',\n",
      "  'last_update': None,\n",
      "  'scores': None,\n",
      "  'sport_key': 'soccer_brazil_campeonato',\n",
      "  'sport_title': 'Brazil Série A'},\n",
      " {'away_team': 'Sao Paulo',\n",
      "  'commence_time': '2023-10-19T00:30:00Z',\n",
      "  'completed': False,\n",
      "  'home_team': 'Goiás',\n",
      "  'id': '0e0db1a73f794087e68d1850bce189ca',\n",
      "  'last_update': None,\n",
      "  'scores': None,\n",
      "  'sport_key': 'soccer_brazil_campeonato',\n",
      "  'sport_title': 'Brazil Série A'},\n",
      " {'away_team': 'Atletico Mineiro',\n",
      "  'commence_time': '2023-10-19T22:00:00Z',\n",
      "  'completed': False,\n",
      "  'home_team': 'Palmeiras',\n",
      "  'id': '892bf402270fc3ce26465814f6fe1749',\n",
      "  'last_update': None,\n",
      "  'scores': None,\n",
      "  'sport_key': 'soccer_brazil_campeonato',\n",
      "  'sport_title': 'Brazil Série A'},\n",
      " {'away_team': 'Flamengo',\n",
      "  'commence_time': '2023-10-19T22:00:00Z',\n",
      "  'completed': False,\n",
      "  'home_team': 'Cruzeiro',\n",
      "  'id': 'e4e1f45f6b0bff9931899bee9f278ffb',\n",
      "  'last_update': None,\n",
      "  'scores': None,\n",
      "  'sport_key': 'soccer_brazil_campeonato',\n",
      "  'sport_title': 'Brazil Série A'},\n",
      " {'away_team': 'Bragantino-SP',\n",
      "  'commence_time': '2023-10-19T23:00:00Z',\n",
      "  'completed': False,\n",
      "  'home_team': 'Santos',\n",
      "  'id': '0450620669e7ac867480992f74f279a9',\n",
      "  'last_update': None,\n",
      "  'scores': None,\n",
      "  'sport_key': 'soccer_brazil_campeonato',\n",
      "  'sport_title': 'Brazil Série A'},\n",
      " {'away_team': 'Corinthians',\n",
      "  'commence_time': '2023-10-20T00:30:00Z',\n",
      "  'completed': False,\n",
      "  'home_team': 'Fluminense',\n",
      "  'id': '36d7216dce04066b1fb99f73e5953d5e',\n",
      "  'last_update': None,\n",
      "  'scores': None,\n",
      "  'sport_key': 'soccer_brazil_campeonato',\n",
      "  'sport_title': 'Brazil Série A'},\n",
      " {'away_team': 'Fortaleza',\n",
      "  'commence_time': '2023-10-21T21:30:00Z',\n",
      "  'completed': False,\n",
      "  'home_team': 'Bahia',\n",
      "  'id': '1e6836f5247a74f04dadb1ea15390614',\n",
      "  'last_update': None,\n",
      "  'scores': None,\n",
      "  'sport_key': 'soccer_brazil_campeonato',\n",
      "  'sport_title': 'Brazil Série A'},\n",
      " {'away_team': 'Goiás',\n",
      "  'commence_time': '2023-10-21T21:30:00Z',\n",
      "  'completed': False,\n",
      "  'home_team': 'Cuiabá',\n",
      "  'id': 'a72a41206245407f460ecff7c64c1396',\n",
      "  'last_update': None,\n",
      "  'scores': None,\n",
      "  'sport_key': 'soccer_brazil_campeonato',\n",
      "  'sport_title': 'Brazil Série A'},\n",
      " {'away_team': 'Gremio',\n",
      "  'commence_time': '2023-10-21T21:30:00Z',\n",
      "  'completed': False,\n",
      "  'home_team': 'Sao Paulo',\n",
      "  'id': 'ec15a16f1768919aef5dc95a5cdc3aea',\n",
      "  'last_update': None,\n",
      "  'scores': None,\n",
      "  'sport_key': 'soccer_brazil_campeonato',\n",
      "  'sport_title': 'Brazil Série A'},\n",
      " {'away_team': 'Atletico Paranaense',\n",
      "  'commence_time': '2023-10-22T00:00:00Z',\n",
      "  'completed': False,\n",
      "  'home_team': 'Botafogo',\n",
      "  'id': '34aa9b489b2d75df7872e6f3bad985aa',\n",
      "  'last_update': None,\n",
      "  'scores': None,\n",
      "  'sport_key': 'soccer_brazil_campeonato',\n",
      "  'sport_title': 'Brazil Série A'},\n",
      " {'away_team': 'Cruzeiro',\n",
      "  'commence_time': '2023-10-22T19:00:00Z',\n",
      "  'completed': False,\n",
      "  'home_team': 'Atletico Mineiro',\n",
      "  'id': '914da25ca58dc73fc4a3d6eb1d0ec3f0',\n",
      "  'last_update': None,\n",
      "  'scores': None,\n",
      "  'sport_key': 'soccer_brazil_campeonato',\n",
      "  'sport_title': 'Brazil Série A'},\n",
      " {'away_team': 'Vasco da Gama',\n",
      "  'commence_time': '2023-10-22T19:00:00Z',\n",
      "  'completed': False,\n",
      "  'home_team': 'Flamengo',\n",
      "  'id': 'f5f3de1e2df421e29b5caf2978b5bf58',\n",
      "  'last_update': None,\n",
      "  'scores': None,\n",
      "  'sport_key': 'soccer_brazil_campeonato',\n",
      "  'sport_title': 'Brazil Série A'},\n",
      " {'away_team': 'Santos',\n",
      "  'commence_time': '2023-10-22T19:00:00Z',\n",
      "  'completed': False,\n",
      "  'home_team': 'Internacional',\n",
      "  'id': '0e261b79c0d0865a3c8e5db6829f25ec',\n",
      "  'last_update': None,\n",
      "  'scores': None,\n",
      "  'sport_key': 'soccer_brazil_campeonato',\n",
      "  'sport_title': 'Brazil Série A'},\n",
      " {'away_team': 'América Mineiro',\n",
      "  'commence_time': '2023-10-22T21:30:00Z',\n",
      "  'completed': False,\n",
      "  'home_team': 'Corinthians',\n",
      "  'id': '581f6f7af110f52e913d4b42158438a5',\n",
      "  'last_update': None,\n",
      "  'scores': None,\n",
      "  'sport_key': 'soccer_brazil_campeonato',\n",
      "  'sport_title': 'Brazil Série A'},\n",
      " {'away_team': 'Fluminense',\n",
      "  'commence_time': '2023-10-22T21:30:00Z',\n",
      "  'completed': False,\n",
      "  'home_team': 'Bragantino-SP',\n",
      "  'id': '99ae8381a7a19ea74ad2a70a1e4c0821',\n",
      "  'last_update': None,\n",
      "  'scores': None,\n",
      "  'sport_key': 'soccer_brazil_campeonato',\n",
      "  'sport_title': 'Brazil Série A'},\n",
      " {'away_team': 'Palmeiras',\n",
      "  'commence_time': '2023-10-22T21:30:00Z',\n",
      "  'completed': False,\n",
      "  'home_team': 'Coritiba',\n",
      "  'id': 'a5bb4f3fa90b1000ba5fb2f668393b96',\n",
      "  'last_update': None,\n",
      "  'scores': None,\n",
      "  'sport_key': 'soccer_brazil_campeonato',\n",
      "  'sport_title': 'Brazil Série A'}]\n"
     ]
    }
   ],
   "source": [
    "# Importando a biblioteca 'pprint' para imprimir a resposta de forma mais organizada\n",
    "import pprint \n",
    "pprint.pprint(response.json())"
   ]
  },
  {
   "cell_type": "code",
   "execution_count": 14,
   "id": "2338f44a",
   "metadata": {},
   "outputs": [],
   "source": [
    "#Importando a biblioteca 'pandas' e apelidando como 'pd'\n",
    "import pandas as pd"
   ]
  },
  {
   "cell_type": "code",
   "execution_count": 15,
   "id": "f7ad0786",
   "metadata": {},
   "outputs": [],
   "source": [
    "#Cria um DataFrame chamado \"partidas_brasileirao_serie_a_2023 a partir dos dados JSON, facilitando a manipulação\n",
    "partidas_brasileirao_serie_a_2023 = pd.DataFrame(response.json())"
   ]
  },
  {
   "cell_type": "code",
   "execution_count": 16,
   "id": "be73b6c6",
   "metadata": {},
   "outputs": [],
   "source": [
    "# Criando um dicionário chamado 'novo_nome_colunas' que será usado para renomear colunas\n",
    "novo_nome_colunas = {\n",
    "    'commence_time': 'datahora_partida',\n",
    "    'home_team': 'time_casa',\n",
    "    'away_team': 'time_fora'\n",
    "}"
   ]
  },
  {
   "cell_type": "code",
   "execution_count": 17,
   "id": "e8bd4b49",
   "metadata": {},
   "outputs": [],
   "source": [
    "# Usando o método 'rename' para renomear as colunas conforme os nomes das variáveis solicitados na atividade\n",
    "partidas_brasileirao_serie_a_2023 = partidas_brasileirao_serie_a_2023.rename(columns=novo_nome_colunas)"
   ]
  },
  {
   "cell_type": "code",
   "execution_count": 18,
   "id": "fda4d432",
   "metadata": {
    "scrolled": true
   },
   "outputs": [],
   "source": [
    "#extraindo os 10 primeiros caracteres da coluna \"datahora_partida\" e inserindo em uma nova coluna chamada \"data_partida\"\n",
    "partidas_brasileirao_serie_a_2023['data_partida'] = partidas_brasileirao_serie_a_2023['datahora_partida'].str.slice(0, 10)"
   ]
  },
  {
   "cell_type": "code",
   "execution_count": 19,
   "id": "0d4bbffa",
   "metadata": {},
   "outputs": [
    {
     "name": "stdout",
     "output_type": "stream",
     "text": [
      "Index(['id', 'sport_key', 'sport_title', 'datahora_partida', 'completed',\n",
      "       'time_casa', 'time_fora', 'scores', 'last_update', 'data_partida'],\n",
      "      dtype='object')\n"
     ]
    }
   ],
   "source": [
    "#Verificando as colunas disponiveis do dataframe \"partidas_brasileirao_serie_a_2023\" e checando se estão de acordo\n",
    "print(partidas_brasileirao_serie_a_2023.columns)"
   ]
  },
  {
   "cell_type": "code",
   "execution_count": 20,
   "id": "7f859b31",
   "metadata": {},
   "outputs": [
    {
     "name": "stdout",
     "output_type": "stream",
     "text": [
      "        datahora_partida data_partida         time_casa            time_fora\n",
      "0   2023-10-15T00:00:00Z   2023-10-15            Cuiabá             Cruzeiro\n",
      "1   2023-10-18T22:00:00Z   2023-10-18            Gremio  Atletico Paranaense\n",
      "2   2023-10-18T23:00:00Z   2023-10-18   América Mineiro             Botafogo\n",
      "3   2023-10-18T23:00:00Z   2023-10-18          Coritiba               Cuiabá\n",
      "4   2023-10-19T00:30:00Z   2023-10-19             Bahia        Internacional\n",
      "5   2023-10-19T00:30:00Z   2023-10-19     Vasco da Gama            Fortaleza\n",
      "6   2023-10-19T00:30:00Z   2023-10-19             Goiás            Sao Paulo\n",
      "7   2023-10-19T22:00:00Z   2023-10-19         Palmeiras     Atletico Mineiro\n",
      "8   2023-10-19T22:00:00Z   2023-10-19          Cruzeiro             Flamengo\n",
      "9   2023-10-19T23:00:00Z   2023-10-19            Santos        Bragantino-SP\n",
      "10  2023-10-20T00:30:00Z   2023-10-20        Fluminense          Corinthians\n",
      "11  2023-10-21T21:30:00Z   2023-10-21             Bahia            Fortaleza\n",
      "12  2023-10-21T21:30:00Z   2023-10-21            Cuiabá                Goiás\n",
      "13  2023-10-21T21:30:00Z   2023-10-21         Sao Paulo               Gremio\n",
      "14  2023-10-22T00:00:00Z   2023-10-22          Botafogo  Atletico Paranaense\n",
      "15  2023-10-22T19:00:00Z   2023-10-22  Atletico Mineiro             Cruzeiro\n",
      "16  2023-10-22T19:00:00Z   2023-10-22          Flamengo        Vasco da Gama\n",
      "17  2023-10-22T19:00:00Z   2023-10-22     Internacional               Santos\n",
      "18  2023-10-22T21:30:00Z   2023-10-22       Corinthians      América Mineiro\n",
      "19  2023-10-22T21:30:00Z   2023-10-22     Bragantino-SP           Fluminense\n",
      "20  2023-10-22T21:30:00Z   2023-10-22          Coritiba            Palmeiras\n"
     ]
    }
   ],
   "source": [
    "#Imprimindo apenas as colunas de interesse do dataframe\n",
    "print(partidas_brasileirao_serie_a_2023[['datahora_partida','data_partida','time_casa','time_fora',]])"
   ]
  },
  {
   "cell_type": "code",
   "execution_count": null,
   "id": "10ae9aa4",
   "metadata": {},
   "outputs": [],
   "source": [
    "#A chave Scores do sport soccer_brazil_campeonato de onde precisaria extrair as colunas \"gols_time_casa\" e \"gols_time_fora\" \n",
    "#se encontra como \"NULL\" no momento que tento realizar essa atividade, não sabendo informar o que motivou a falha.\n",
    "\n",
    "#consultando o exemplo da documentação do site, deveria vir da seguinte maneira:\n",
    "    \n",
    "#[\n",
    "#    {\n",
    "#        \"id\": \"572d984e132eddaac3da93e5db332e7e\",\n",
    "#        \"sport_key\": \"basketball_nba\",\n",
    "#        \"sport_title\": \"NBA\",\n",
    "#        \"commence_time\": \"2022-02-06T03:10:38Z\",\n",
    "#        \"completed\": true,\n",
    "#        \"home_team\": \"Sacramento Kings\",\n",
    "#        \"away_team\": \"Oklahoma City Thunder\",\n",
    "#        \"scores\": [\n",
    "#            {\n",
    "#                \"name\": \"Sacramento Kings\",\n",
    "#                \"score\": \"113\"\n",
    "#            },\n",
    "#            {\n",
    "#                \"name\": \"Oklahoma City Thunder\",\n",
    "#                \"score\": \"103\"\n",
    "#            }\n",
    "#        ],"
   ]
  },
  {
   "cell_type": "code",
   "execution_count": null,
   "id": "d12f32f3",
   "metadata": {},
   "outputs": [],
   "source": [
    "#Também tentei encontrar essa informação em outro endpoint da API para cruzar as tabelas através da função merge \n",
    "#(caso encontrasse uma chave, possivelmente a \"id\"), mas não obtive sucesso em minha busca."
   ]
  }
 ],
 "metadata": {
  "kernelspec": {
   "display_name": "Python 3 (ipykernel)",
   "language": "python",
   "name": "python3"
  },
  "language_info": {
   "codemirror_mode": {
    "name": "ipython",
    "version": 3
   },
   "file_extension": ".py",
   "mimetype": "text/x-python",
   "name": "python",
   "nbconvert_exporter": "python",
   "pygments_lexer": "ipython3",
   "version": "3.11.4"
  }
 },
 "nbformat": 4,
 "nbformat_minor": 5
}
