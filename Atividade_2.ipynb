{
 "cells": [
  {
   "cell_type": "code",
   "execution_count": 1,
   "id": "9da5bbf1",
   "metadata": {},
   "outputs": [
    {
     "name": "stdout",
     "output_type": "stream",
     "text": [
      "Requirement already satisfied: requests in d:\\python\\lib\\site-packages (2.31.0)\n",
      "Requirement already satisfied: charset-normalizer<4,>=2 in d:\\python\\lib\\site-packages (from requests) (2.0.4)\n",
      "Requirement already satisfied: idna<4,>=2.5 in d:\\python\\lib\\site-packages (from requests) (3.4)\n",
      "Requirement already satisfied: urllib3<3,>=1.21.1 in d:\\python\\lib\\site-packages (from requests) (1.26.16)\n",
      "Requirement already satisfied: certifi>=2017.4.17 in d:\\python\\lib\\site-packages (from requests) (2023.7.22)\n"
     ]
    }
   ],
   "source": [
    "#instalando a biblioteca 'requests' para permitir a realização de solicitações HTTP\n",
    "!pip install requests"
   ]
  },
  {
   "cell_type": "code",
   "execution_count": 5,
   "id": "0dbb4185",
   "metadata": {},
   "outputs": [],
   "source": [
    "#importando a biblioteca 'requests' \n",
    "import requests"
   ]
  },
  {
   "cell_type": "code",
   "execution_count": 6,
   "id": "9b6d4015",
   "metadata": {},
   "outputs": [],
   "source": [
    "#Importando o módulo \"json\" para leitura de dados no formato JSON\n",
    "import json"
   ]
  },
  {
   "cell_type": "code",
   "execution_count": 8,
   "id": "9a9b97eb",
   "metadata": {},
   "outputs": [
    {
     "name": "stdout",
     "output_type": "stream",
     "text": [
      "[]\n"
     ]
    }
   ],
   "source": [
    "# Este código realiza uma solicitação HTTP a uma API para obter os dados do endpoint 'scores' no formato JSON. \n",
    "# O endpoint é parte do serviço disponibilizado pelo site \"https://rapidapi.com/\".\n",
    "\n",
    "import requests\n",
    "\n",
    "url = \"https://odds.p.rapidapi.com/v4/sports/soccer_brazil_campeonato/scores\"\n",
    "\n",
    "querystring = {\"daysFrom\":\"3\"}\n",
    "\n",
    "headers = {\n",
    "\t\"X-RapidAPI-Key\": \"0a16a4d9cbmshac1516e415b0736p1bfba6jsnc36bfeea7da7\",\n",
    "\t\"X-RapidAPI-Host\": \"odds.p.rapidapi.com\"\n",
    "}\n",
    "\n",
    "response = requests.get(url, headers=headers, params=querystring)\n",
    "\n",
    "print(response.json())\n",
    "\n",
    "#Atualização: antes estava puxando os dados normalmente quando fui rodar no final da tarde pra conferir, deu que estava \n",
    "#vazio no proprio site da API quando tentei visualizar com o test endpoint, retornando apenas [], \n",
    "#conforme o print \"0_items.png\" em anexo "
   ]
  },
  {
   "cell_type": "code",
   "execution_count": 9,
   "id": "5ab824c8",
   "metadata": {},
   "outputs": [
    {
     "name": "stdout",
     "output_type": "stream",
     "text": [
      "[]\n"
     ]
    }
   ],
   "source": [
    "# Importando a biblioteca 'pprint' para imprimir a resposta de forma mais organizada\n",
    "import pprint \n",
    "pprint.pprint(response.json())"
   ]
  },
  {
   "cell_type": "code",
   "execution_count": 10,
   "id": "2338f44a",
   "metadata": {},
   "outputs": [],
   "source": [
    "#Importando a biblioteca 'pandas' e apelidando como 'pd'\n",
    "import pandas as pd"
   ]
  },
  {
   "cell_type": "code",
   "execution_count": 11,
   "id": "f7ad0786",
   "metadata": {},
   "outputs": [],
   "source": [
    "#Cria um DataFrame chamado \"partidas_brasileirao_serie_a_2023 a partir dos dados JSON, facilitando a manipulação\n",
    "partidas_brasileirao_serie_a_2023 = pd.DataFrame(response.json())"
   ]
  },
  {
   "cell_type": "code",
   "execution_count": null,
   "id": "be73b6c6",
   "metadata": {},
   "outputs": [],
   "source": [
    "# Criando um dicionário chamado 'novo_nome_colunas' que será usado para renomear colunas\n",
    "novo_nome_colunas = {\n",
    "    'commence_time': 'datahora_partida',\n",
    "    'home_team': 'time_casa',\n",
    "    'away_team': 'time_fora'\n",
    "}"
   ]
  },
  {
   "cell_type": "code",
   "execution_count": null,
   "id": "e8bd4b49",
   "metadata": {},
   "outputs": [],
   "source": [
    "# Usando o método 'rename' para renomear as colunas conforme os nomes das variáveis solicitados na atividade\n",
    "partidas_brasileirao_serie_a_2023 = partidas_brasileirao_serie_a_2023.rename(columns=novo_nome_colunas)"
   ]
  },
  {
   "cell_type": "code",
   "execution_count": null,
   "id": "fda4d432",
   "metadata": {
    "scrolled": true
   },
   "outputs": [],
   "source": [
    "#extraindo os 10 primeiros caracteres da coluna \"datahora_partida\" e inserindo em uma nova coluna chamada \"data_partida\"\n",
    "partidas_brasileirao_serie_a_2023['data_partida'] = partidas_brasileirao_serie_a_2023['datahora_partida'].str.slice(0, 10)"
   ]
  },
  {
   "cell_type": "code",
   "execution_count": null,
   "id": "0d4bbffa",
   "metadata": {},
   "outputs": [],
   "source": [
    "#Verificando as colunas disponiveis do dataframe \"partidas_brasileirao_serie_a_2023\" e checando se estão de acordo\n",
    "print(partidas_brasileirao_serie_a_2023.columns)"
   ]
  },
  {
   "cell_type": "code",
   "execution_count": null,
   "id": "7f859b31",
   "metadata": {},
   "outputs": [],
   "source": [
    "#Imprimindo apenas as colunas de interesse do dataframe\n",
    "print(partidas_brasileirao_serie_a_2023[['datahora_partida','data_partida','time_casa','time_fora',]])"
   ]
  },
  {
   "cell_type": "code",
   "execution_count": null,
   "id": "10ae9aa4",
   "metadata": {},
   "outputs": [],
   "source": [
    "#A chave Scores do sport soccer_brazil_campeonato de onde precisaria extrair as colunas \"gols_time_casa\" e \"gols_time_fora\" \n",
    "#se encontra como \"NULL\" no momento que tento realizar essa atividade, não sabendo informar o que motivou a falha.\n",
    "\n",
    "#consultando o exemplo da documentação do site, deveria vir da seguinte maneira:\n",
    "    \n",
    "#[\n",
    "#    {\n",
    "#        \"id\": \"572d984e132eddaac3da93e5db332e7e\",\n",
    "#        \"sport_key\": \"basketball_nba\",\n",
    "#        \"sport_title\": \"NBA\",\n",
    "#        \"commence_time\": \"2022-02-06T03:10:38Z\",\n",
    "#        \"completed\": true,\n",
    "#        \"home_team\": \"Sacramento Kings\",\n",
    "#        \"away_team\": \"Oklahoma City Thunder\",\n",
    "#        \"scores\": [\n",
    "#            {\n",
    "#                \"name\": \"Sacramento Kings\",\n",
    "#                \"score\": \"113\"\n",
    "#            },\n",
    "#            {\n",
    "#                \"name\": \"Oklahoma City Thunder\",\n",
    "#                \"score\": \"103\"\n",
    "#            }\n",
    "#        ],"
   ]
  },
  {
   "cell_type": "code",
   "execution_count": null,
   "id": "d12f32f3",
   "metadata": {},
   "outputs": [],
   "source": [
    "#Também tentei encontrar essa informação em outro endpoint da API para cruzar as tabelas através da função merge \n",
    "#(caso encontrasse uma chave, possivelmente a \"id\"), mas não obtive sucesso em minha busca."
   ]
  }
 ],
 "metadata": {
  "kernelspec": {
   "display_name": "Python 3 (ipykernel)",
   "language": "python",
   "name": "python3"
  },
  "language_info": {
   "codemirror_mode": {
    "name": "ipython",
    "version": 3
   },
   "file_extension": ".py",
   "mimetype": "text/x-python",
   "name": "python",
   "nbconvert_exporter": "python",
   "pygments_lexer": "ipython3",
   "version": "3.11.4"
  }
 },
 "nbformat": 4,
 "nbformat_minor": 5
}
